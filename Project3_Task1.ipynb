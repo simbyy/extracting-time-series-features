{
  "nbformat": 4,
  "nbformat_minor": 0,
  "metadata": {
    "colab": {
      "name": "Project3_Task1.ipynb",
      "provenance": [],
      "collapsed_sections": []
    },
    "kernelspec": {
      "name": "python3",
      "display_name": "Python 3"
    },
    "language_info": {
      "name": "python"
    }
  },
  "cells": [
    {
      "cell_type": "code",
      "execution_count": 1,
      "metadata": {
        "id": "d_PN-vo2F6zt"
      },
      "outputs": [],
      "source": [
        "from google.colab import drive"
      ]
    },
    {
      "cell_type": "code",
      "source": [
        "drive.mount('/content/drive/')"
      ],
      "metadata": {
        "colab": {
          "base_uri": "https://localhost:8080/"
        },
        "id": "0ayK3Gr-F9Ma",
        "outputId": "800133b1-6751-44e7-89ca-a80fe9ab1249"
      },
      "execution_count": 2,
      "outputs": [
        {
          "output_type": "stream",
          "name": "stdout",
          "text": [
            "Drive already mounted at /content/drive/; to attempt to forcibly remount, call drive.mount(\"/content/drive/\", force_remount=True).\n"
          ]
        }
      ]
    },
    {
      "cell_type": "code",
      "source": [
        "%cd drive/MyDrive/FDA-Dataset"
      ],
      "metadata": {
        "colab": {
          "base_uri": "https://localhost:8080/"
        },
        "id": "K4WRUk88vlp7",
        "outputId": "395b805f-a725-4dfa-9498-586b58862504"
      },
      "execution_count": 3,
      "outputs": [
        {
          "output_type": "stream",
          "name": "stdout",
          "text": [
            "/content/drive/MyDrive/FDA-Dataset\n"
          ]
        }
      ]
    },
    {
      "cell_type": "code",
      "source": [
        "import os"
      ],
      "metadata": {
        "id": "AJjddmadHjql"
      },
      "execution_count": 4,
      "outputs": []
    },
    {
      "cell_type": "code",
      "source": [
        "os.listdir()"
      ],
      "metadata": {
        "colab": {
          "base_uri": "https://localhost:8080/"
        },
        "id": "DAnsimlkHtG1",
        "outputId": "81ccecee-e2d7-48eb-c297-4a475b7bd3e3"
      },
      "execution_count": 5,
      "outputs": [
        {
          "output_type": "execute_result",
          "data": {
            "text/plain": [
              "['acc_running_csv-1',\n",
              " 'acc_climbingup_csv-3',\n",
              " 'acc_running_csv-6',\n",
              " 'acc_climbingdown_csv-9',\n",
              " 'acc_climbingup_csv-15',\n",
              " 'acc_climbingup_csv-12',\n",
              " 'acc_running_csv-10',\n",
              " 'acc_walking_csv-12',\n",
              " 'acc_walking_csv-7',\n",
              " 'acc_walking_csv-9',\n",
              " 'acc_climbingup_csv-5',\n",
              " 'acc_running_csv-7',\n",
              " 'acc_climbingup_csv-2',\n",
              " 'acc_running_csv-9',\n",
              " 'acc_walking_csv-8',\n",
              " 'acc_walking_csv-6',\n",
              " 'acc_walking_csv-1',\n",
              " 'acc_running_csv-8',\n",
              " 'acc_climbingup_csv-4',\n",
              " 'acc_climbingdown_csv-7',\n",
              " '.DS_Store',\n",
              " 'acc_walking_csv-15',\n",
              " 'acc_climbingdown_csv-1',\n",
              " 'acc_running_csv-11',\n",
              " 'acc_climbingup_csv-13',\n",
              " 'acc_climbingdown_csv-6',\n",
              " 'acc_climbingup_csv-14',\n",
              " 'acc_climbingdown_csv-8',\n",
              " 'acc_walking_csv-14',\n",
              " 'acc_walking_csv-13',\n",
              " 'acc_climbingdown_csv-12',\n",
              " 'acc_climbingdown_csv-15',\n",
              " 'acc_climbingdown_csv-14',\n",
              " 'acc_climbingdown_csv-13',\n",
              " 'acc_running_csv-3',\n",
              " 'acc_climbingup_csv-1',\n",
              " 'acc_climbingup_csv-6',\n",
              " 'acc_running_csv-4',\n",
              " 'acc_climbingup_csv-8',\n",
              " 'acc_walking_csv-4',\n",
              " 'acc_walking_csv-3',\n",
              " 'acc_climbingup_csv-9',\n",
              " 'acc_climbingup_csv-7',\n",
              " 'acc_running_csv-5',\n",
              " 'acc_running_csv-2',\n",
              " 'acc_walking_csv-2',\n",
              " 'acc_walking_csv-5',\n",
              " 'acc_walking_csv-11',\n",
              " 'acc_climbingdown_csv-3',\n",
              " 'acc_climbingup_csv-11',\n",
              " 'acc_running_csv-13',\n",
              " 'acc_climbingdown_csv-4',\n",
              " 'acc_running_csv-14',\n",
              " 'acc_walking_csv-10',\n",
              " 'acc_climbingdown_csv-5',\n",
              " 'acc_running_csv-15',\n",
              " 'acc_climbingdown_csv-2',\n",
              " 'acc_running_csv-12',\n",
              " 'acc_climbingup_csv-10',\n",
              " 'acc_climbingdown_csv-11',\n",
              " 'acc_climbingdown_csv-10']"
            ]
          },
          "metadata": {},
          "execution_count": 5
        }
      ]
    },
    {
      "cell_type": "code",
      "source": [
        "!sudo apt install libcairo2-dev pkg-config python3-dev"
      ],
      "metadata": {
        "colab": {
          "base_uri": "https://localhost:8080/"
        },
        "id": "I-pGj1pHwbbU",
        "outputId": "43e69367-dbe1-4fd9-dc27-abb0e88032e2"
      },
      "execution_count": null,
      "outputs": [
        {
          "output_type": "stream",
          "name": "stdout",
          "text": [
            "Reading package lists... Done\n",
            "Building dependency tree       \n",
            "Reading state information... Done\n",
            "pkg-config is already the newest version (0.29.1-0ubuntu2).\n",
            "libcairo2-dev is already the newest version (1.15.10-2ubuntu0.1).\n",
            "python3-dev is already the newest version (3.6.7-1~18.04).\n",
            "0 upgraded, 0 newly installed, 0 to remove and 37 not upgraded.\n"
          ]
        }
      ]
    },
    {
      "cell_type": "code",
      "source": [
        "!pip install ts2vg cairocffi igraph\n",
        "!pip install pycairo"
      ],
      "metadata": {
        "colab": {
          "base_uri": "https://localhost:8080/"
        },
        "id": "JNBGuVaztb2G",
        "outputId": "5ac167b7-7738-4734-e004-03f67f4835b0"
      },
      "execution_count": null,
      "outputs": [
        {
          "output_type": "stream",
          "name": "stdout",
          "text": [
            "Requirement already satisfied: ts2vg in /usr/local/lib/python3.7/dist-packages (1.0.0)\n",
            "Requirement already satisfied: cairocffi in /usr/local/lib/python3.7/dist-packages (1.3.0)\n",
            "Requirement already satisfied: igraph in /usr/local/lib/python3.7/dist-packages (0.9.8)\n",
            "Requirement already satisfied: numpy in /usr/local/lib/python3.7/dist-packages (from ts2vg) (1.19.5)\n",
            "Requirement already satisfied: cffi>=1.1.0 in /usr/local/lib/python3.7/dist-packages (from cairocffi) (1.15.0)\n",
            "Requirement already satisfied: texttable>=1.6.2 in /usr/local/lib/python3.7/dist-packages (from igraph) (1.6.4)\n",
            "Requirement already satisfied: pycparser in /usr/local/lib/python3.7/dist-packages (from cffi>=1.1.0->cairocffi) (2.21)\n",
            "\u001b[33mWARNING: Running pip as the 'root' user can result in broken permissions and conflicting behaviour with the system package manager. It is recommended to use a virtual environment instead: https://pip.pypa.io/warnings/venv\u001b[0m\n",
            "Requirement already satisfied: pycairo in /usr/local/lib/python3.7/dist-packages (1.20.1)\n",
            "\u001b[33mWARNING: Running pip as the 'root' user can result in broken permissions and conflicting behaviour with the system package manager. It is recommended to use a virtual environment instead: https://pip.pypa.io/warnings/venv\u001b[0m\n"
          ]
        }
      ]
    },
    {
      "cell_type": "code",
      "source": [
        "from ts2vg import NaturalVG, HorizontalVG\n",
        "import numpy as np\n",
        "import igraph\n",
        "#import pycairo\n",
        "#import cairocffi\n",
        "import pandas as pd\n",
        "import matplotlib.pyplot as plt"
      ],
      "metadata": {
        "id": "92GYDsIqq40p"
      },
      "execution_count": 43,
      "outputs": []
    },
    {
      "cell_type": "code",
      "source": [
        "col_list = [\"Method\", \"Subject\", \"Accelerometer Axis\", \"Average Degree\",\n",
        "            \"Network Diameter\", \"Average Path Length\", \"Activity\"]\n",
        "collect_df = pd.DataFrame(columns=col_list)\n",
        "\n",
        "activities = [\"climbingdown\", \"climbingup\", \"running\", \"walking\"]\n",
        "alias = [\"Climbing Down\", \"Climbing Up\", \"Running\", \"Walking\"]\n",
        "activity_dict = dict(zip(activities, alias))\n",
        "subjects = list(range(1, 16))\n",
        "axis = list(\"xyz\")\n",
        "sensors = [\"chest\"]\n",
        "methods = [NaturalVG, HorizontalVG]\n",
        "\n",
        "for subject in subjects:\n",
        "  for activity in activities:\n",
        "    for sensor in sensors:\n",
        "      foldername = \"acc_\"+activity+\"_csv-\"+str(subject)\n",
        "      filename = \"acc_\"+activity+\"_\"+sensor+\".csv\"\n",
        "      print(foldername)\n",
        "      df = pd.read_csv(foldername+\"/\"+filename)\n",
        "      \n",
        "      for ax in axis:\n",
        "        for method in methods:\n",
        "          g = method()\n",
        "          g.build(df[\"attr_\"+ax][1000:2024])\n",
        "          ig = g.as_igraph()\n",
        "          \n",
        "          res = [method.__name__, subject, ax.upper(), np.mean(ig.degree()), \n",
        "                 ig.diameter(), ig.average_path_length(), activity_dict[activity]]\n",
        "\n",
        "          d = dict(zip(col_list, res))\n",
        "          collect_df = collect_df.append(d, ignore_index=True)\n",
        "\n",
        "'''\n",
        "folder_name = \"acc_\"+activity+\"_csv-\"+str(subject)\n",
        "file_name = \"acc_\"+activity+\"_\"+sensor+\".csv\"\n",
        "'''\n"
      ],
      "metadata": {
        "colab": {
          "base_uri": "https://localhost:8080/",
          "height": 1000
        },
        "id": "xiQq-WOCICWT",
        "outputId": "279b3521-773b-4688-ed58-f831ce6e1ff6"
      },
      "execution_count": 13,
      "outputs": [
        {
          "output_type": "stream",
          "name": "stdout",
          "text": [
            "acc_climbingdown_csv-1\n",
            "acc_climbingup_csv-1\n",
            "acc_running_csv-1\n",
            "acc_walking_csv-1\n",
            "acc_climbingdown_csv-2\n",
            "acc_climbingup_csv-2\n",
            "acc_running_csv-2\n",
            "acc_walking_csv-2\n",
            "acc_climbingdown_csv-3\n",
            "acc_climbingup_csv-3\n",
            "acc_running_csv-3\n",
            "acc_walking_csv-3\n",
            "acc_climbingdown_csv-4\n",
            "acc_climbingup_csv-4\n",
            "acc_running_csv-4\n",
            "acc_walking_csv-4\n",
            "acc_climbingdown_csv-5\n",
            "acc_climbingup_csv-5\n",
            "acc_running_csv-5\n",
            "acc_walking_csv-5\n",
            "acc_climbingdown_csv-6\n",
            "acc_climbingup_csv-6\n",
            "acc_running_csv-6\n",
            "acc_walking_csv-6\n",
            "acc_climbingdown_csv-7\n",
            "acc_climbingup_csv-7\n",
            "acc_running_csv-7\n",
            "acc_walking_csv-7\n",
            "acc_climbingdown_csv-8\n",
            "acc_climbingup_csv-8\n",
            "acc_running_csv-8\n",
            "acc_walking_csv-8\n",
            "acc_climbingdown_csv-9\n",
            "acc_climbingup_csv-9\n",
            "acc_running_csv-9\n",
            "acc_walking_csv-9\n",
            "acc_climbingdown_csv-10\n",
            "acc_climbingup_csv-10\n",
            "acc_running_csv-10\n",
            "acc_walking_csv-10\n",
            "acc_climbingdown_csv-11\n",
            "acc_climbingup_csv-11\n",
            "acc_running_csv-11\n",
            "acc_walking_csv-11\n",
            "acc_climbingdown_csv-12\n",
            "acc_climbingup_csv-12\n",
            "acc_running_csv-12\n",
            "acc_walking_csv-12\n",
            "acc_climbingdown_csv-13\n",
            "acc_climbingup_csv-13\n",
            "acc_running_csv-13\n",
            "acc_walking_csv-13\n",
            "acc_climbingdown_csv-14\n",
            "acc_climbingup_csv-14\n",
            "acc_running_csv-14\n",
            "acc_walking_csv-14\n",
            "acc_climbingdown_csv-15\n",
            "acc_climbingup_csv-15\n",
            "acc_running_csv-15\n",
            "acc_walking_csv-15\n"
          ]
        },
        {
          "output_type": "execute_result",
          "data": {
            "application/vnd.google.colaboratory.intrinsic+json": {
              "type": "string"
            },
            "text/plain": [
              "'\\nfolder_name = \"acc_\"+activity+\"_csv-\"+str(subject)\\nfile_name = \"acc_\"+activity+\"_\"+sensor+\".csv\"\\n'"
            ]
          },
          "metadata": {},
          "execution_count": 13
        }
      ]
    },
    {
      "cell_type": "code",
      "source": [
        "collect_df.tail()"
      ],
      "metadata": {
        "colab": {
          "base_uri": "https://localhost:8080/",
          "height": 206
        },
        "id": "kT3gpGISHuSn",
        "outputId": "08e124c9-fcd7-486a-9e79-9b88f89bc326"
      },
      "execution_count": 15,
      "outputs": [
        {
          "output_type": "execute_result",
          "data": {
            "text/html": [
              "\n",
              "  <div id=\"df-80e8d92c-ff67-4d98-ba7f-16c99867d567\">\n",
              "    <div class=\"colab-df-container\">\n",
              "      <div>\n",
              "<style scoped>\n",
              "    .dataframe tbody tr th:only-of-type {\n",
              "        vertical-align: middle;\n",
              "    }\n",
              "\n",
              "    .dataframe tbody tr th {\n",
              "        vertical-align: top;\n",
              "    }\n",
              "\n",
              "    .dataframe thead th {\n",
              "        text-align: right;\n",
              "    }\n",
              "</style>\n",
              "<table border=\"1\" class=\"dataframe\">\n",
              "  <thead>\n",
              "    <tr style=\"text-align: right;\">\n",
              "      <th></th>\n",
              "      <th>Method</th>\n",
              "      <th>Subject</th>\n",
              "      <th>Accelerometer Axis</th>\n",
              "      <th>Average Degree</th>\n",
              "      <th>Network Diameter</th>\n",
              "      <th>Average Path Length</th>\n",
              "      <th>Activity</th>\n",
              "    </tr>\n",
              "  </thead>\n",
              "  <tbody>\n",
              "    <tr>\n",
              "      <th>355</th>\n",
              "      <td>HorizontalVG</td>\n",
              "      <td>15</td>\n",
              "      <td>X</td>\n",
              "      <td>3.935547</td>\n",
              "      <td>34</td>\n",
              "      <td>13.545222</td>\n",
              "      <td>Walking</td>\n",
              "    </tr>\n",
              "    <tr>\n",
              "      <th>356</th>\n",
              "      <td>NaturalVG</td>\n",
              "      <td>15</td>\n",
              "      <td>Y</td>\n",
              "      <td>13.033203</td>\n",
              "      <td>12</td>\n",
              "      <td>4.654347</td>\n",
              "      <td>Walking</td>\n",
              "    </tr>\n",
              "    <tr>\n",
              "      <th>357</th>\n",
              "      <td>HorizontalVG</td>\n",
              "      <td>15</td>\n",
              "      <td>Y</td>\n",
              "      <td>3.958984</td>\n",
              "      <td>31</td>\n",
              "      <td>12.383202</td>\n",
              "      <td>Walking</td>\n",
              "    </tr>\n",
              "    <tr>\n",
              "      <th>358</th>\n",
              "      <td>NaturalVG</td>\n",
              "      <td>15</td>\n",
              "      <td>Z</td>\n",
              "      <td>9.318359</td>\n",
              "      <td>12</td>\n",
              "      <td>4.945985</td>\n",
              "      <td>Walking</td>\n",
              "    </tr>\n",
              "    <tr>\n",
              "      <th>359</th>\n",
              "      <td>HorizontalVG</td>\n",
              "      <td>15</td>\n",
              "      <td>Z</td>\n",
              "      <td>3.931641</td>\n",
              "      <td>30</td>\n",
              "      <td>10.897949</td>\n",
              "      <td>Walking</td>\n",
              "    </tr>\n",
              "  </tbody>\n",
              "</table>\n",
              "</div>\n",
              "      <button class=\"colab-df-convert\" onclick=\"convertToInteractive('df-80e8d92c-ff67-4d98-ba7f-16c99867d567')\"\n",
              "              title=\"Convert this dataframe to an interactive table.\"\n",
              "              style=\"display:none;\">\n",
              "        \n",
              "  <svg xmlns=\"http://www.w3.org/2000/svg\" height=\"24px\"viewBox=\"0 0 24 24\"\n",
              "       width=\"24px\">\n",
              "    <path d=\"M0 0h24v24H0V0z\" fill=\"none\"/>\n",
              "    <path d=\"M18.56 5.44l.94 2.06.94-2.06 2.06-.94-2.06-.94-.94-2.06-.94 2.06-2.06.94zm-11 1L8.5 8.5l.94-2.06 2.06-.94-2.06-.94L8.5 2.5l-.94 2.06-2.06.94zm10 10l.94 2.06.94-2.06 2.06-.94-2.06-.94-.94-2.06-.94 2.06-2.06.94z\"/><path d=\"M17.41 7.96l-1.37-1.37c-.4-.4-.92-.59-1.43-.59-.52 0-1.04.2-1.43.59L10.3 9.45l-7.72 7.72c-.78.78-.78 2.05 0 2.83L4 21.41c.39.39.9.59 1.41.59.51 0 1.02-.2 1.41-.59l7.78-7.78 2.81-2.81c.8-.78.8-2.07 0-2.86zM5.41 20L4 18.59l7.72-7.72 1.47 1.35L5.41 20z\"/>\n",
              "  </svg>\n",
              "      </button>\n",
              "      \n",
              "  <style>\n",
              "    .colab-df-container {\n",
              "      display:flex;\n",
              "      flex-wrap:wrap;\n",
              "      gap: 12px;\n",
              "    }\n",
              "\n",
              "    .colab-df-convert {\n",
              "      background-color: #E8F0FE;\n",
              "      border: none;\n",
              "      border-radius: 50%;\n",
              "      cursor: pointer;\n",
              "      display: none;\n",
              "      fill: #1967D2;\n",
              "      height: 32px;\n",
              "      padding: 0 0 0 0;\n",
              "      width: 32px;\n",
              "    }\n",
              "\n",
              "    .colab-df-convert:hover {\n",
              "      background-color: #E2EBFA;\n",
              "      box-shadow: 0px 1px 2px rgba(60, 64, 67, 0.3), 0px 1px 3px 1px rgba(60, 64, 67, 0.15);\n",
              "      fill: #174EA6;\n",
              "    }\n",
              "\n",
              "    [theme=dark] .colab-df-convert {\n",
              "      background-color: #3B4455;\n",
              "      fill: #D2E3FC;\n",
              "    }\n",
              "\n",
              "    [theme=dark] .colab-df-convert:hover {\n",
              "      background-color: #434B5C;\n",
              "      box-shadow: 0px 1px 3px 1px rgba(0, 0, 0, 0.15);\n",
              "      filter: drop-shadow(0px 1px 2px rgba(0, 0, 0, 0.3));\n",
              "      fill: #FFFFFF;\n",
              "    }\n",
              "  </style>\n",
              "\n",
              "      <script>\n",
              "        const buttonEl =\n",
              "          document.querySelector('#df-80e8d92c-ff67-4d98-ba7f-16c99867d567 button.colab-df-convert');\n",
              "        buttonEl.style.display =\n",
              "          google.colab.kernel.accessAllowed ? 'block' : 'none';\n",
              "\n",
              "        async function convertToInteractive(key) {\n",
              "          const element = document.querySelector('#df-80e8d92c-ff67-4d98-ba7f-16c99867d567');\n",
              "          const dataTable =\n",
              "            await google.colab.kernel.invokeFunction('convertToInteractive',\n",
              "                                                     [key], {});\n",
              "          if (!dataTable) return;\n",
              "\n",
              "          const docLinkHtml = 'Like what you see? Visit the ' +\n",
              "            '<a target=\"_blank\" href=https://colab.research.google.com/notebooks/data_table.ipynb>data table notebook</a>'\n",
              "            + ' to learn more about interactive tables.';\n",
              "          element.innerHTML = '';\n",
              "          dataTable['output_type'] = 'display_data';\n",
              "          await google.colab.output.renderOutput(dataTable, element);\n",
              "          const docLink = document.createElement('div');\n",
              "          docLink.innerHTML = docLinkHtml;\n",
              "          element.appendChild(docLink);\n",
              "        }\n",
              "      </script>\n",
              "    </div>\n",
              "  </div>\n",
              "  "
            ],
            "text/plain": [
              "           Method Subject  ... Average Path Length  Activity\n",
              "355  HorizontalVG      15  ...           13.545222   Walking\n",
              "356     NaturalVG      15  ...            4.654347   Walking\n",
              "357  HorizontalVG      15  ...           12.383202   Walking\n",
              "358     NaturalVG      15  ...            4.945985   Walking\n",
              "359  HorizontalVG      15  ...           10.897949   Walking\n",
              "\n",
              "[5 rows x 7 columns]"
            ]
          },
          "metadata": {},
          "execution_count": 15
        }
      ]
    },
    {
      "cell_type": "code",
      "source": [
        "collect_df[collect_df.Activity == \"Walking\"]"
      ],
      "metadata": {
        "colab": {
          "base_uri": "https://localhost:8080/",
          "height": 424
        },
        "id": "upO5ctiqQZw2",
        "outputId": "82ff7da5-e8f9-41b2-e16f-1b856303982a"
      },
      "execution_count": 36,
      "outputs": [
        {
          "output_type": "execute_result",
          "data": {
            "text/html": [
              "\n",
              "  <div id=\"df-f3e4c90d-3e20-4d46-a37f-c809b1b5ca95\">\n",
              "    <div class=\"colab-df-container\">\n",
              "      <div>\n",
              "<style scoped>\n",
              "    .dataframe tbody tr th:only-of-type {\n",
              "        vertical-align: middle;\n",
              "    }\n",
              "\n",
              "    .dataframe tbody tr th {\n",
              "        vertical-align: top;\n",
              "    }\n",
              "\n",
              "    .dataframe thead th {\n",
              "        text-align: right;\n",
              "    }\n",
              "</style>\n",
              "<table border=\"1\" class=\"dataframe\">\n",
              "  <thead>\n",
              "    <tr style=\"text-align: right;\">\n",
              "      <th></th>\n",
              "      <th>Method</th>\n",
              "      <th>Subject</th>\n",
              "      <th>Accelerometer Axis</th>\n",
              "      <th>Average Degree</th>\n",
              "      <th>Network Diameter</th>\n",
              "      <th>Average Path Length</th>\n",
              "      <th>Activity</th>\n",
              "    </tr>\n",
              "  </thead>\n",
              "  <tbody>\n",
              "    <tr>\n",
              "      <th>18</th>\n",
              "      <td>NaturalVG</td>\n",
              "      <td>1</td>\n",
              "      <td>X</td>\n",
              "      <td>11.451172</td>\n",
              "      <td>10</td>\n",
              "      <td>4.441492</td>\n",
              "      <td>Walking</td>\n",
              "    </tr>\n",
              "    <tr>\n",
              "      <th>19</th>\n",
              "      <td>HorizontalVG</td>\n",
              "      <td>1</td>\n",
              "      <td>X</td>\n",
              "      <td>3.958984</td>\n",
              "      <td>26</td>\n",
              "      <td>11.578024</td>\n",
              "      <td>Walking</td>\n",
              "    </tr>\n",
              "    <tr>\n",
              "      <th>20</th>\n",
              "      <td>NaturalVG</td>\n",
              "      <td>1</td>\n",
              "      <td>Y</td>\n",
              "      <td>11.986328</td>\n",
              "      <td>9</td>\n",
              "      <td>4.241050</td>\n",
              "      <td>Walking</td>\n",
              "    </tr>\n",
              "    <tr>\n",
              "      <th>21</th>\n",
              "      <td>HorizontalVG</td>\n",
              "      <td>1</td>\n",
              "      <td>Y</td>\n",
              "      <td>3.951172</td>\n",
              "      <td>22</td>\n",
              "      <td>10.666252</td>\n",
              "      <td>Walking</td>\n",
              "    </tr>\n",
              "    <tr>\n",
              "      <th>22</th>\n",
              "      <td>NaturalVG</td>\n",
              "      <td>1</td>\n",
              "      <td>Z</td>\n",
              "      <td>8.570312</td>\n",
              "      <td>10</td>\n",
              "      <td>4.897722</td>\n",
              "      <td>Walking</td>\n",
              "    </tr>\n",
              "    <tr>\n",
              "      <th>...</th>\n",
              "      <td>...</td>\n",
              "      <td>...</td>\n",
              "      <td>...</td>\n",
              "      <td>...</td>\n",
              "      <td>...</td>\n",
              "      <td>...</td>\n",
              "      <td>...</td>\n",
              "    </tr>\n",
              "    <tr>\n",
              "      <th>355</th>\n",
              "      <td>HorizontalVG</td>\n",
              "      <td>15</td>\n",
              "      <td>X</td>\n",
              "      <td>3.935547</td>\n",
              "      <td>34</td>\n",
              "      <td>13.545222</td>\n",
              "      <td>Walking</td>\n",
              "    </tr>\n",
              "    <tr>\n",
              "      <th>356</th>\n",
              "      <td>NaturalVG</td>\n",
              "      <td>15</td>\n",
              "      <td>Y</td>\n",
              "      <td>13.033203</td>\n",
              "      <td>12</td>\n",
              "      <td>4.654347</td>\n",
              "      <td>Walking</td>\n",
              "    </tr>\n",
              "    <tr>\n",
              "      <th>357</th>\n",
              "      <td>HorizontalVG</td>\n",
              "      <td>15</td>\n",
              "      <td>Y</td>\n",
              "      <td>3.958984</td>\n",
              "      <td>31</td>\n",
              "      <td>12.383202</td>\n",
              "      <td>Walking</td>\n",
              "    </tr>\n",
              "    <tr>\n",
              "      <th>358</th>\n",
              "      <td>NaturalVG</td>\n",
              "      <td>15</td>\n",
              "      <td>Z</td>\n",
              "      <td>9.318359</td>\n",
              "      <td>12</td>\n",
              "      <td>4.945985</td>\n",
              "      <td>Walking</td>\n",
              "    </tr>\n",
              "    <tr>\n",
              "      <th>359</th>\n",
              "      <td>HorizontalVG</td>\n",
              "      <td>15</td>\n",
              "      <td>Z</td>\n",
              "      <td>3.931641</td>\n",
              "      <td>30</td>\n",
              "      <td>10.897949</td>\n",
              "      <td>Walking</td>\n",
              "    </tr>\n",
              "  </tbody>\n",
              "</table>\n",
              "<p>90 rows × 7 columns</p>\n",
              "</div>\n",
              "      <button class=\"colab-df-convert\" onclick=\"convertToInteractive('df-f3e4c90d-3e20-4d46-a37f-c809b1b5ca95')\"\n",
              "              title=\"Convert this dataframe to an interactive table.\"\n",
              "              style=\"display:none;\">\n",
              "        \n",
              "  <svg xmlns=\"http://www.w3.org/2000/svg\" height=\"24px\"viewBox=\"0 0 24 24\"\n",
              "       width=\"24px\">\n",
              "    <path d=\"M0 0h24v24H0V0z\" fill=\"none\"/>\n",
              "    <path d=\"M18.56 5.44l.94 2.06.94-2.06 2.06-.94-2.06-.94-.94-2.06-.94 2.06-2.06.94zm-11 1L8.5 8.5l.94-2.06 2.06-.94-2.06-.94L8.5 2.5l-.94 2.06-2.06.94zm10 10l.94 2.06.94-2.06 2.06-.94-2.06-.94-.94-2.06-.94 2.06-2.06.94z\"/><path d=\"M17.41 7.96l-1.37-1.37c-.4-.4-.92-.59-1.43-.59-.52 0-1.04.2-1.43.59L10.3 9.45l-7.72 7.72c-.78.78-.78 2.05 0 2.83L4 21.41c.39.39.9.59 1.41.59.51 0 1.02-.2 1.41-.59l7.78-7.78 2.81-2.81c.8-.78.8-2.07 0-2.86zM5.41 20L4 18.59l7.72-7.72 1.47 1.35L5.41 20z\"/>\n",
              "  </svg>\n",
              "      </button>\n",
              "      \n",
              "  <style>\n",
              "    .colab-df-container {\n",
              "      display:flex;\n",
              "      flex-wrap:wrap;\n",
              "      gap: 12px;\n",
              "    }\n",
              "\n",
              "    .colab-df-convert {\n",
              "      background-color: #E8F0FE;\n",
              "      border: none;\n",
              "      border-radius: 50%;\n",
              "      cursor: pointer;\n",
              "      display: none;\n",
              "      fill: #1967D2;\n",
              "      height: 32px;\n",
              "      padding: 0 0 0 0;\n",
              "      width: 32px;\n",
              "    }\n",
              "\n",
              "    .colab-df-convert:hover {\n",
              "      background-color: #E2EBFA;\n",
              "      box-shadow: 0px 1px 2px rgba(60, 64, 67, 0.3), 0px 1px 3px 1px rgba(60, 64, 67, 0.15);\n",
              "      fill: #174EA6;\n",
              "    }\n",
              "\n",
              "    [theme=dark] .colab-df-convert {\n",
              "      background-color: #3B4455;\n",
              "      fill: #D2E3FC;\n",
              "    }\n",
              "\n",
              "    [theme=dark] .colab-df-convert:hover {\n",
              "      background-color: #434B5C;\n",
              "      box-shadow: 0px 1px 3px 1px rgba(0, 0, 0, 0.15);\n",
              "      filter: drop-shadow(0px 1px 2px rgba(0, 0, 0, 0.3));\n",
              "      fill: #FFFFFF;\n",
              "    }\n",
              "  </style>\n",
              "\n",
              "      <script>\n",
              "        const buttonEl =\n",
              "          document.querySelector('#df-f3e4c90d-3e20-4d46-a37f-c809b1b5ca95 button.colab-df-convert');\n",
              "        buttonEl.style.display =\n",
              "          google.colab.kernel.accessAllowed ? 'block' : 'none';\n",
              "\n",
              "        async function convertToInteractive(key) {\n",
              "          const element = document.querySelector('#df-f3e4c90d-3e20-4d46-a37f-c809b1b5ca95');\n",
              "          const dataTable =\n",
              "            await google.colab.kernel.invokeFunction('convertToInteractive',\n",
              "                                                     [key], {});\n",
              "          if (!dataTable) return;\n",
              "\n",
              "          const docLinkHtml = 'Like what you see? Visit the ' +\n",
              "            '<a target=\"_blank\" href=https://colab.research.google.com/notebooks/data_table.ipynb>data table notebook</a>'\n",
              "            + ' to learn more about interactive tables.';\n",
              "          element.innerHTML = '';\n",
              "          dataTable['output_type'] = 'display_data';\n",
              "          await google.colab.output.renderOutput(dataTable, element);\n",
              "          const docLink = document.createElement('div');\n",
              "          docLink.innerHTML = docLinkHtml;\n",
              "          element.appendChild(docLink);\n",
              "        }\n",
              "      </script>\n",
              "    </div>\n",
              "  </div>\n",
              "  "
            ],
            "text/plain": [
              "           Method Subject  ... Average Path Length  Activity\n",
              "18      NaturalVG       1  ...            4.441492   Walking\n",
              "19   HorizontalVG       1  ...           11.578024   Walking\n",
              "20      NaturalVG       1  ...            4.241050   Walking\n",
              "21   HorizontalVG       1  ...           10.666252   Walking\n",
              "22      NaturalVG       1  ...            4.897722   Walking\n",
              "..            ...     ...  ...                 ...       ...\n",
              "355  HorizontalVG      15  ...           13.545222   Walking\n",
              "356     NaturalVG      15  ...            4.654347   Walking\n",
              "357  HorizontalVG      15  ...           12.383202   Walking\n",
              "358     NaturalVG      15  ...            4.945985   Walking\n",
              "359  HorizontalVG      15  ...           10.897949   Walking\n",
              "\n",
              "[90 rows x 7 columns]"
            ]
          },
          "metadata": {},
          "execution_count": 36
        }
      ]
    },
    {
      "cell_type": "code",
      "source": [
        "axis = list(\"XYZ\")\n",
        "methods = [\"NaturalVG\", \"HorizontalVG\"]\n",
        "activities = [\"Walking\", \"Running\"]\n",
        "colors = dict(zip(activities, [\"red\", \"blue\"]))\n",
        "\n",
        "fig, axs = plt.subplots(2, 3, figsize=(25, 10))\n",
        "\n",
        "for i in range(len(axis)):\n",
        "  for method in range(len(methods)):\n",
        "    df = collect_df[((collect_df[\"Activity\"] == \"Walking\") | \n",
        "                     (collect_df[\"Activity\"] == \"Running\")) & \n",
        "                    (collect_df[\"Method\"] == methods[method]) & \n",
        "                    (collect_df[\"Accelerometer Axis\"] == axis[i])]\n",
        "    # print(methods[method])\n",
        "    # print(axis[i])\n",
        "    axs[method, i].scatter(x=df[\"Average Degree\"], \n",
        "                          y=df[\"Network Diameter\"], \n",
        "                          c=df[\"Activity\"].map(colors))\n",
        "\n",
        "fig.show()"
      ],
      "metadata": {
        "id": "XwJEK-xJ6rde",
        "colab": {
          "base_uri": "https://localhost:8080/",
          "height": 756
        },
        "outputId": "fbab576c-e37e-43c1-f770-137053ddb509"
      },
      "execution_count": 52,
      "outputs": [
        {
          "output_type": "stream",
          "name": "stdout",
          "text": [
            "NaturalVG\n",
            "X\n",
            "HorizontalVG\n",
            "X\n",
            "NaturalVG\n",
            "Y\n",
            "HorizontalVG\n",
            "Y\n",
            "NaturalVG\n",
            "Z\n",
            "HorizontalVG\n",
            "Z\n"
          ]
        },
        {
          "output_type": "display_data",
          "data": {
            "image/png": "[encoded data removed]",
            "text/plain": [
              "<Figure size 1800x720 with 6 Axes>"
            ]
          },
          "metadata": {
            "needs_background": "light"
          }
        }
      ]
    },
    {
      "cell_type": "code",
      "source": [
        "axis = list(\"XYZ\")\n",
        "methods = [\"NaturalVG\", \"HorizontalVG\"]\n",
        "activities = [\"Climbing Up\", \"Climbing Down\"]\n",
        "colors = dict(zip(activities, [\"red\", \"blue\"]))\n",
        "\n",
        "fig, axs = plt.subplots(2, 3, figsize=(25, 10))\n",
        "\n",
        "for i in range(len(axis)):\n",
        "  for method in range(len(methods)):\n",
        "    df = collect_df[((collect_df[\"Activity\"] == \"Climbing Up\") | \n",
        "                     (collect_df[\"Activity\"] == \"Climbing Down\")) & \n",
        "                    (collect_df[\"Method\"] == methods[method]) & \n",
        "                    (collect_df[\"Accelerometer Axis\"] == axis[i])]\n",
        "                    \n",
        "    axs[method, i].scatter(x=df[\"Average Degree\"], \n",
        "                          y=df[\"Network Diameter\"], \n",
        "                          c=df[\"Activity\"].map(colors))\n",
        "\n",
        "fig.show()"
      ],
      "metadata": {
        "colab": {
          "base_uri": "https://localhost:8080/",
          "height": 756
        },
        "id": "psmtLd54YKjT",
        "outputId": "603ace77-19c6-4c5f-ca12-c1d018e97562"
      },
      "execution_count": 53,
      "outputs": [
        {
          "output_type": "stream",
          "name": "stdout",
          "text": [
            "NaturalVG\n",
            "X\n",
            "HorizontalVG\n",
            "X\n",
            "NaturalVG\n",
            "Y\n",
            "HorizontalVG\n",
            "Y\n",
            "NaturalVG\n",
            "Z\n",
            "HorizontalVG\n",
            "Z\n"
          ]
        },
        {
          "output_type": "display_data",
          "data": {
            "image/png": "[encoded data removed]",
            "text/plain": [
              "<Figure size 1800x720 with 6 Axes>"
            ]
          },
          "metadata": {
            "needs_background": "light"
          }
        }
      ]
    }
  ]
}